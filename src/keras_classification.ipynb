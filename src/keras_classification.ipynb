{
 "cells": [
  {
   "cell_type": "code",
   "execution_count": 1,
   "metadata": {},
   "outputs": [],
   "source": [
    "import matplotlib.pyplot as plt\n",
    "import numpy as np\n",
    "import os\n",
    "import tensorflow as tf\n",
    "from tensorflow import keras\n",
    "from tensorflow.keras import layers\n",
    "from tensorflow.python.keras.layers import Dense, Flatten\n",
    "from tensorflow.keras.models import Sequential\n",
    "from tensorflow.keras.optimizers import Adam"
   ]
  },
  {
   "cell_type": "code",
   "execution_count": 2,
   "metadata": {},
   "outputs": [
    {
     "name": "stdout",
     "output_type": "stream",
     "text": [
      "Found 26 files belonging to 2 classes.\n",
      "Using 19 files for training.\n"
     ]
    }
   ],
   "source": [
    "img_height,img_width=180,180\n",
    "batch_size=2\n",
    "train_ds = tf.keras.preprocessing.image_dataset_from_directory(\n",
    "  'ForKerasClassification',\n",
    "  validation_split=0.3,\n",
    "  subset=\"training\",\n",
    "  seed=0,\n",
    "  image_size=(img_height, img_width),\n",
    "  batch_size=batch_size)"
   ]
  },
  {
   "cell_type": "code",
   "execution_count": 3,
   "metadata": {},
   "outputs": [
    {
     "name": "stdout",
     "output_type": "stream",
     "text": [
      "Found 26 files belonging to 2 classes.\n",
      "Using 7 files for validation.\n"
     ]
    }
   ],
   "source": [
    "val_ds = tf.keras.preprocessing.image_dataset_from_directory(\n",
    "  'ForKerasClassification',\n",
    "  validation_split=0.3,\n",
    "  subset=\"validation\",\n",
    "  seed=0,\n",
    "  image_size=(img_height, img_width),\n",
    "  batch_size=batch_size)"
   ]
  },
  {
   "cell_type": "code",
   "execution_count": 4,
   "metadata": {},
   "outputs": [
    {
     "name": "stdout",
     "output_type": "stream",
     "text": [
      "['0 no diabetes', '1 diabetes']\n"
     ]
    }
   ],
   "source": [
    "class_names = train_ds.class_names\n",
    "print(class_names)"
   ]
  },
  {
   "cell_type": "code",
   "execution_count": 5,
   "metadata": {},
   "outputs": [],
   "source": [
    "model = Sequential()\n",
    "\n",
    "pretrained = tf.keras.applications.ResNet50V2(\n",
    "    include_top=False,\n",
    "    weights=\"imagenet\",\n",
    "    input_shape=(180,180,3),\n",
    "    pooling= 'avg',\n",
    "    classes=2\n",
    ")\n",
    "\n",
    "for layer in pretrained.layers:\n",
    "        layer.trainable=False\n",
    "        \n",
    "model.add(pretrained)\n",
    "model.add(Flatten())\n",
    "model.add(Dense(128, activation='relu'))\n",
    "model.add(Dense(2, activation='softmax'))"
   ]
  },
  {
   "cell_type": "code",
   "execution_count": 6,
   "metadata": {
    "scrolled": true
   },
   "outputs": [
    {
     "name": "stdout",
     "output_type": "stream",
     "text": [
      "Model: \"sequential\"\n",
      "_________________________________________________________________\n",
      " Layer (type)                Output Shape              Param #   \n",
      "=================================================================\n",
      " resnet50v2 (Functional)     (None, 2048)              23564800  \n",
      "                                                                 \n",
      " module_wrapper (ModuleWrapp  (None, 2048)             0         \n",
      " er)                                                             \n",
      "                                                                 \n",
      " module_wrapper_1 (ModuleWra  (None, 128)              262272    \n",
      " pper)                                                           \n",
      "                                                                 \n",
      " module_wrapper_2 (ModuleWra  (None, 2)                258       \n",
      " pper)                                                           \n",
      "                                                                 \n",
      "=================================================================\n",
      "Total params: 23,827,330\n",
      "Trainable params: 262,530\n",
      "Non-trainable params: 23,564,800\n",
      "_________________________________________________________________\n"
     ]
    }
   ],
   "source": [
    "model.summary()"
   ]
  },
  {
   "cell_type": "code",
   "execution_count": 7,
   "metadata": {},
   "outputs": [],
   "source": [
    "model.compile(optimizer=Adam(learning_rate=0.001),loss='sparse_categorical_crossentropy',metrics=['accuracy'])"
   ]
  },
  {
   "cell_type": "code",
   "execution_count": 8,
   "metadata": {},
   "outputs": [
    {
     "name": "stdout",
     "output_type": "stream",
     "text": [
      "Epoch 1/10\n",
      "10/10 [==============================] - 7s 257ms/step - loss: 56.7999 - accuracy: 0.6316 - val_loss: 82.8352 - val_accuracy: 0.2857\n",
      "Epoch 2/10\n",
      "10/10 [==============================] - 1s 108ms/step - loss: 56.9671 - accuracy: 0.5263 - val_loss: 57.5864 - val_accuracy: 0.7143\n",
      "Epoch 3/10\n",
      "10/10 [==============================] - 1s 139ms/step - loss: 80.4198 - accuracy: 0.6842 - val_loss: 16.5606 - val_accuracy: 0.7143\n",
      "Epoch 4/10\n",
      "10/10 [==============================] - 2s 199ms/step - loss: 11.8054 - accuracy: 0.5789 - val_loss: 8.6576 - val_accuracy: 0.7143\n",
      "Epoch 5/10\n",
      "10/10 [==============================] - 2s 239ms/step - loss: 17.8100 - accuracy: 0.4737 - val_loss: 13.6292 - val_accuracy: 0.7143\n",
      "Epoch 6/10\n",
      "10/10 [==============================] - 2s 236ms/step - loss: 12.0820 - accuracy: 0.7368 - val_loss: 2.5856 - val_accuracy: 0.8571\n",
      "Epoch 7/10\n",
      "10/10 [==============================] - 2s 249ms/step - loss: 3.1360 - accuracy: 0.8421 - val_loss: 9.3263 - val_accuracy: 0.7143\n",
      "Epoch 8/10\n",
      "10/10 [==============================] - 2s 199ms/step - loss: 8.3406 - accuracy: 0.7368 - val_loss: 15.6403 - val_accuracy: 0.4286\n",
      "Epoch 9/10\n",
      "10/10 [==============================] - 2s 239ms/step - loss: 8.2348 - accuracy: 0.7368 - val_loss: 3.5998 - val_accuracy: 0.8571\n",
      "Epoch 10/10\n",
      "10/10 [==============================] - 2s 225ms/step - loss: 4.7114 - accuracy: 0.6316 - val_loss: 10.3955 - val_accuracy: 0.7143\n"
     ]
    }
   ],
   "source": [
    "epochs=10\n",
    "\n",
    "history = model.fit(\n",
    "  train_ds,\n",
    "  validation_data=val_ds,\n",
    "  epochs=epochs\n",
    ")"
   ]
  },
  {
   "cell_type": "code",
   "execution_count": 22,
   "metadata": {},
   "outputs": [
    {
     "ename": "error",
     "evalue": "OpenCV(4.6.0) C:\\b\\abs_74oeeuevib\\croots\\recipe\\opencv-suite_1664548340488\\work\\modules\\imgproc\\src\\resize.cpp:4052: error: (-215:Assertion failed) !ssize.empty() in function 'cv::resize'\n",
     "output_type": "error",
     "traceback": [
      "\u001b[1;31m---------------------------------------------------------------------------\u001b[0m",
      "\u001b[1;31merror\u001b[0m                                     Traceback (most recent call last)",
      "\u001b[1;32m~\\AppData\\Local\\Temp\\ipykernel_3348\\2465240607.py\u001b[0m in \u001b[0;36m<module>\u001b[1;34m\u001b[0m\n\u001b[0;32m      1\u001b[0m \u001b[1;32mimport\u001b[0m \u001b[0mcv2\u001b[0m\u001b[1;33m\u001b[0m\u001b[1;33m\u001b[0m\u001b[0m\n\u001b[0;32m      2\u001b[0m \u001b[0mimage\u001b[0m\u001b[1;33m=\u001b[0m\u001b[0mcv2\u001b[0m\u001b[1;33m.\u001b[0m\u001b[0mimread\u001b[0m\u001b[1;33m(\u001b[0m\u001b[1;34m\"ForKerasClassification\\1 diabetes\\26_manual1.jpg\"\u001b[0m\u001b[1;33m)\u001b[0m\u001b[1;33m\u001b[0m\u001b[1;33m\u001b[0m\u001b[0m\n\u001b[1;32m----> 3\u001b[1;33m \u001b[0mimage\u001b[0m \u001b[1;33m=\u001b[0m \u001b[0mcv2\u001b[0m\u001b[1;33m.\u001b[0m\u001b[0mresize\u001b[0m\u001b[1;33m(\u001b[0m\u001b[0mimage\u001b[0m\u001b[1;33m,\u001b[0m \u001b[1;33m(\u001b[0m\u001b[1;36m180\u001b[0m\u001b[1;33m,\u001b[0m\u001b[1;36m180\u001b[0m\u001b[1;33m)\u001b[0m\u001b[1;33m)\u001b[0m\u001b[1;33m\u001b[0m\u001b[1;33m\u001b[0m\u001b[0m\n\u001b[0m\u001b[0;32m      4\u001b[0m \u001b[0mcv2\u001b[0m\u001b[1;33m.\u001b[0m\u001b[0mimshow\u001b[0m\u001b[1;33m(\u001b[0m\u001b[1;34m'window'\u001b[0m\u001b[1;33m,\u001b[0m\u001b[0mimage\u001b[0m\u001b[1;33m)\u001b[0m\u001b[1;33m\u001b[0m\u001b[1;33m\u001b[0m\u001b[0m\n",
      "\u001b[1;31merror\u001b[0m: OpenCV(4.6.0) C:\\b\\abs_74oeeuevib\\croots\\recipe\\opencv-suite_1664548340488\\work\\modules\\imgproc\\src\\resize.cpp:4052: error: (-215:Assertion failed) !ssize.empty() in function 'cv::resize'\n"
     ]
    }
   ],
   "source": [
    "import cv2\n",
    "image=cv2.imread(\"ForKerasClassification\\1 diabetes\\26_manual1.jpg\")\n",
    "image = cv2.resize(image, (180,180))\n",
    "cv2.imshow('window',image)"
   ]
  }
 ],
 "metadata": {
  "kernelspec": {
   "display_name": "Python 3 (ipykernel)",
   "language": "python",
   "name": "python3"
  },
  "language_info": {
   "codemirror_mode": {
    "name": "ipython",
    "version": 3
   },
   "file_extension": ".py",
   "mimetype": "text/x-python",
   "name": "python",
   "nbconvert_exporter": "python",
   "pygments_lexer": "ipython3",
   "version": "3.10.6"
  }
 },
 "nbformat": 4,
 "nbformat_minor": 2
}
